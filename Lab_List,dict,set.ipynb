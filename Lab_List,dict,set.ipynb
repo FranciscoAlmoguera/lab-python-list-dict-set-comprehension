{
  "nbformat": 4,
  "nbformat_minor": 0,
  "metadata": {
    "colab": {
      "provenance": []
    },
    "kernelspec": {
      "name": "python3",
      "display_name": "Python 3"
    },
    "language_info": {
      "name": "python"
    }
  },
  "cells": [
    {
      "cell_type": "code",
      "execution_count": null,
      "metadata": {
        "id": "DLF_dW9ZtEsA"
      },
      "outputs": [],
      "source": [
        "\n",
        "def initialize_inventory(products):\n",
        "    inventory = {product: int(input(f\"Enter the quantity of {product}s available: \")) for product in products}\n",
        "    return inventory\n",
        "\n",
        "def get_customer_orders():\n",
        "    num_orders = int(input(\"Enter the number of customer orders: \"))\n",
        "    customer_orders = [input(\"Enter the name of a product that a customer wants to order: \").strip().lower() for _ in range(num_orders)]\n",
        "    return customer_orders\n",
        "\n",
        "def calculate_total_price(customer_orders):\n",
        "    prices = {product: float(input(f\"Enter the price of {product}: \")) for product in customer_orders}\n",
        "    total_price = sum(prices[product] for product in customer_orders)\n",
        "    return total_price\n",
        "\n",
        "def update_inventory(inventory, customer_orders):\n",
        "    inventory = {product: quantity - 1 if product in customer_orders else quantity\n",
        "                 for product, quantity in inventory.items()}\n",
        "\n",
        "    inventory = {product: quantity for product, quantity in inventory.items() if quantity > 0}\n",
        "    return inventory\n",
        "\n",
        "def main():\n",
        "\n",
        "    products = [\"t-shirt\", \"mug\", \"hat\", \"book\", \"keychain\"]\n",
        "    inventory = initialize_inventory(products)\n",
        "\n",
        "    customer_orders = get_customer_orders()\n",
        "\n",
        "\n",
        "    total_products_ordered = len(customer_orders)\n",
        "    unique_products_ordered = len(set(customer_orders))\n",
        "    percentage_unique = (unique_products_ordered / len(products)) * 100\n",
        "\n",
        "    print(\"\\nOrder Statistics:\")\n",
        "    print(f\"Total Products Ordered: {total_products_ordered}\")\n",
        "    print(f\"Percentage of Unique Products Ordered: {percentage_unique:.1f}\")\n",
        "\n",
        "    total_price = calculate_total_price(customer_orders)\n",
        "    print(f\"Total Price: {total_price:.2f}\")\n",
        "\n",
        "    inventory = update_inventory(inventory, customer_orders)\n",
        "    print(\"\\nUpdated Inventory:\")\n",
        "    for product, quantity in inventory.items():\n",
        "        print(f\"{product}: {quantity}\")\n",
        "\n",
        "main()\n"
      ]
    }
  ]
}